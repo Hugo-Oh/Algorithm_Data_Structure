{
 "cells": [
  {
   "cell_type": "code",
   "execution_count": 7,
   "id": "43aaad45",
   "metadata": {
    "ExecuteTime": {
     "end_time": "2021-05-04T06:53:15.366267Z",
     "start_time": "2021-05-04T06:53:15.350310Z"
    }
   },
   "outputs": [
    {
     "name": "stdout",
     "output_type": "stream",
     "text": [
      "<bound method Kernel.raw_input of <ipykernel.ipkernel.IPythonKernel object at 0x000001BED92DCD68>>\n"
     ]
    }
   ],
   "source": [
    "import sys\n",
    "sys.stdin = open(\"input.txt\",\"rt\")\n",
    "n = input\n",
    "print(n)"
   ]
  }
 ],
 "metadata": {
  "kernelspec": {
   "display_name": "Python 3",
   "language": "python",
   "name": "python3"
  },
  "language_info": {
   "codemirror_mode": {
    "name": "ipython",
    "version": 3
   },
   "file_extension": ".py",
   "mimetype": "text/x-python",
   "name": "python",
   "nbconvert_exporter": "python",
   "pygments_lexer": "ipython3",
   "version": "3.6.13"
  }
 },
 "nbformat": 4,
 "nbformat_minor": 5
}
